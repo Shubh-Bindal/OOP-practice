{
  "nbformat": 4,
  "nbformat_minor": 0,
  "metadata": {
    "colab": {
      "name": "inheritance practice.ipynb",
      "provenance": [],
      "authorship_tag": "ABX9TyNICJ64CuTgOIxGAVT9AgYJ",
      "include_colab_link": true
    },
    "kernelspec": {
      "name": "python3",
      "display_name": "Python 3"
    },
    "language_info": {
      "name": "python"
    }
  },
  "cells": [
    {
      "cell_type": "markdown",
      "metadata": {
        "id": "view-in-github",
        "colab_type": "text"
      },
      "source": [
        "<a href=\"https://colab.research.google.com/github/Shubh-Bindal/OOP-practice/blob/master/inheritance_practice.ipynb\" target=\"_parent\"><img src=\"https://colab.research.google.com/assets/colab-badge.svg\" alt=\"Open In Colab\"/></a>"
      ]
    },
    {
      "cell_type": "code",
      "metadata": {
        "colab": {
          "base_uri": "https://localhost:8080/",
          "height": 0
        },
        "id": "P0WLP57JKknl",
        "outputId": "104ca93a-18a3-4058-f650-6c113550d178"
      },
      "source": [
        "class Parent:\n",
        "    def show(self):\n",
        "        print(\"Parent method\")\n",
        "class Child(Parent):\n",
        "    def display(self):\n",
        "        print(\"Child method\")\n",
        "c = Child()\n",
        "c.display()\n",
        "c.show()"
      ],
      "execution_count": 3,
      "outputs": [
        {
          "output_type": "stream",
          "name": "stdout",
          "text": [
            "Child method\n",
            "Parent method\n"
          ]
        }
      ]
    },
    {
      "cell_type": "code",
      "metadata": {
        "colab": {
          "base_uri": "https://localhost:8080/",
          "height": 219
        },
        "id": "_d47urzbK0Yd",
        "outputId": "c0023865-a4c6-4212-bd30-1ba22dafb21f"
      },
      "source": [
        "class Parent:\n",
        "    def show(self):\n",
        "        print(\"Parent method\")\n",
        "class Child(Parent):\n",
        "    def display(self):\n",
        "        print(\"Child method\")\n",
        "c = Parent()\n",
        "c.display()\n",
        "c.show()"
      ],
      "execution_count": 4,
      "outputs": [
        {
          "output_type": "error",
          "ename": "AttributeError",
          "evalue": "ignored",
          "traceback": [
            "\u001b[0;31m---------------------------------------------------------------------------\u001b[0m",
            "\u001b[0;31mAttributeError\u001b[0m                            Traceback (most recent call last)",
            "\u001b[0;32m<ipython-input-4-691bb2d383c4>\u001b[0m in \u001b[0;36m<module>\u001b[0;34m()\u001b[0m\n\u001b[1;32m      6\u001b[0m         \u001b[0mprint\u001b[0m\u001b[0;34m(\u001b[0m\u001b[0;34m\"Child method\"\u001b[0m\u001b[0;34m)\u001b[0m\u001b[0;34m\u001b[0m\u001b[0;34m\u001b[0m\u001b[0m\n\u001b[1;32m      7\u001b[0m \u001b[0mc\u001b[0m \u001b[0;34m=\u001b[0m \u001b[0mParent\u001b[0m\u001b[0;34m(\u001b[0m\u001b[0;34m)\u001b[0m\u001b[0;34m\u001b[0m\u001b[0;34m\u001b[0m\u001b[0m\n\u001b[0;32m----> 8\u001b[0;31m \u001b[0mc\u001b[0m\u001b[0;34m.\u001b[0m\u001b[0mdisplay\u001b[0m\u001b[0;34m(\u001b[0m\u001b[0;34m)\u001b[0m\u001b[0;34m\u001b[0m\u001b[0;34m\u001b[0m\u001b[0m\n\u001b[0m\u001b[1;32m      9\u001b[0m \u001b[0mc\u001b[0m\u001b[0;34m.\u001b[0m\u001b[0mshow\u001b[0m\u001b[0;34m(\u001b[0m\u001b[0;34m)\u001b[0m\u001b[0;34m\u001b[0m\u001b[0;34m\u001b[0m\u001b[0m\n",
            "\u001b[0;31mAttributeError\u001b[0m: 'Parent' object has no attribute 'display'"
          ]
        }
      ]
    },
    {
      "cell_type": "code",
      "metadata": {
        "colab": {
          "base_uri": "https://localhost:8080/"
        },
        "id": "wJ1_0kwfK4s_",
        "outputId": "3533cd51-c944-49d7-af12-cea69145e3d9"
      },
      "source": [
        "# Program 1:\n",
        "class Person(object):\n",
        "       \n",
        "    # Constructor\n",
        "    def __init__(self, name):\n",
        "        self.name = name\n",
        "   \n",
        "    # To get name\n",
        "    def getName(self):\n",
        "        return self.name\n",
        "   \n",
        "    # To check if this person is a student\n",
        "    def isStudent(self):\n",
        "        return False\n",
        "   \n",
        "# Inherited or Subclass (Note Person in bracket)\n",
        "class Student(Person):\n",
        "   \n",
        "    # Check and return true\n",
        "    def isStudent(self):\n",
        "        return True\n",
        "   \n",
        "# Driver code\n",
        "st = Person(\"OOP Course\")  # An Object of Person\n",
        "print(st.getName(), st.isStudent())\n",
        "   \n",
        "st = Student(\"CSE COurse\") # An Object of Student\n",
        "print(st.getName(), st.isStudent())"
      ],
      "execution_count": 5,
      "outputs": [
        {
          "output_type": "stream",
          "name": "stdout",
          "text": [
            "OOP Course False\n",
            "CSE COurse True\n"
          ]
        }
      ]
    },
    {
      "cell_type": "code",
      "metadata": {
        "colab": {
          "base_uri": "https://localhost:8080/"
        },
        "id": "IJ2cDfnOtNL_",
        "outputId": "0c39cd1b-774c-45a3-d24a-464e7a8048bc"
      },
      "source": [
        "class A:\n",
        "    def methodA(self):\n",
        "        print(\"A class\")\n",
        "class B(A):\n",
        "    def methodB(self):\n",
        "        print(\"B class\")\n",
        "class C(A):\n",
        "    def methodC(self):\n",
        "        print(\"C class\")\n",
        "b = B()\n",
        "c = C()\n",
        "b.methodA()\n",
        "c.methodA()"
      ],
      "execution_count": 1,
      "outputs": [
        {
          "output_type": "stream",
          "name": "stdout",
          "text": [
            "A class\n",
            "A class\n"
          ]
        }
      ]
    }
  ]
}