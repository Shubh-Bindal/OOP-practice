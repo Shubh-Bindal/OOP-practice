{
  "nbformat": 4,
  "nbformat_minor": 0,
  "metadata": {
    "colab": {
      "name": "practice.ipynb",
      "provenance": [],
      "authorship_tag": "ABX9TyN7lxfnDrig3LKZh78vtyGf",
      "include_colab_link": true
    },
    "kernelspec": {
      "name": "python3",
      "display_name": "Python 3"
    },
    "language_info": {
      "name": "python"
    }
  },
  "cells": [
    {
      "cell_type": "markdown",
      "metadata": {
        "id": "view-in-github",
        "colab_type": "text"
      },
      "source": [
        "<a href=\"https://colab.research.google.com/github/Shubh-Bindal/OOP-practice/blob/master/practice.ipynb\" target=\"_parent\"><img src=\"https://colab.research.google.com/assets/colab-badge.svg\" alt=\"Open In Colab\"/></a>"
      ]
    },
    {
      "cell_type": "code",
      "metadata": {
        "id": "bWA9NgD5MY0Z"
      },
      "source": [
        "class a:\n",
        "  __b = 2\n",
        "  def get(self):\n",
        "    return self.__b\n",
        "\n",
        "obj1=a()\n",
        "obj1.get()\n",
        "a=8"
      ],
      "execution_count": null,
      "outputs": []
    },
    {
      "cell_type": "code",
      "metadata": {
        "colab": {
          "base_uri": "https://localhost:8080/",
          "height": 290
        },
        "id": "6CkbxHo35u9N",
        "outputId": "8ccb75c0-ed7f-446d-d569-c72fc0c67c67"
      },
      "source": [
        "# create a Color class\n",
        "class Color:\n",
        "\t\n",
        "# constructor method\n",
        "  def __init__(self):\n",
        "    # object attributes\n",
        "    self.name = 'Green'\n",
        "    self.lg = self.Lightgreen()\n",
        "    \n",
        "  def show(self):\n",
        "    print(\"Name:\", self.name)\n",
        "    \n",
        "  # create Lightgreen class\n",
        "  class Lightgreen:\n",
        "    def __init__(self):\n",
        "      self.name = 'Light Green'\n",
        "      self.code = '024avc'\n",
        "    \n",
        "    def display(self):\n",
        "      print(\"Name:\", self.name)\n",
        "      print(\"Code:\", self.code)\n",
        "\n",
        "# create Color class object\n",
        "outer = Color()\n",
        "\n",
        "# method calling\n",
        "outer.show()\n",
        "\n",
        "# create a Lightgreen\n",
        "# inner class object\n",
        "g = outer.lg\n",
        "\n",
        "# inner class method calling\n",
        "g.display()\n",
        "\n",
        "outer.lg.display()\n",
        "\n",
        "obj=Lightgreen( )"
      ],
      "execution_count": 5,
      "outputs": [
        {
          "output_type": "stream",
          "name": "stdout",
          "text": [
            "Name: Green\n",
            "Name: Light Green\n",
            "Code: 024avc\n",
            "Name: Light Green\n",
            "Code: 024avc\n"
          ]
        },
        {
          "output_type": "error",
          "ename": "NameError",
          "evalue": "ignored",
          "traceback": [
            "\u001b[0;31m---------------------------------------------------------------------------\u001b[0m",
            "\u001b[0;31mNameError\u001b[0m                                 Traceback (most recent call last)",
            "\u001b[0;32m<ipython-input-5-65ce414cf7a3>\u001b[0m in \u001b[0;36m<module>\u001b[0;34m()\u001b[0m\n\u001b[1;32m     36\u001b[0m \u001b[0mouter\u001b[0m\u001b[0;34m.\u001b[0m\u001b[0mlg\u001b[0m\u001b[0;34m.\u001b[0m\u001b[0mdisplay\u001b[0m\u001b[0;34m(\u001b[0m\u001b[0;34m)\u001b[0m\u001b[0;34m\u001b[0m\u001b[0;34m\u001b[0m\u001b[0m\n\u001b[1;32m     37\u001b[0m \u001b[0;34m\u001b[0m\u001b[0m\n\u001b[0;32m---> 38\u001b[0;31m \u001b[0mobj\u001b[0m\u001b[0;34m=\u001b[0m\u001b[0mLightgreen\u001b[0m\u001b[0;34m(\u001b[0m\u001b[0;34m)\u001b[0m\u001b[0;34m\u001b[0m\u001b[0;34m\u001b[0m\u001b[0m\n\u001b[0m",
            "\u001b[0;31mNameError\u001b[0m: name 'Lightgreen' is not defined"
          ]
        }
      ]
    },
    {
      "cell_type": "code",
      "metadata": {
        "colab": {
          "base_uri": "https://localhost:8080/",
          "height": 325
        },
        "id": "2PLFwIcFEop-",
        "outputId": "8f9e7c04-2913-4f27-fb06-f8bc45ca5103"
      },
      "source": [
        "c = 1 # global variable\n",
        "    \n",
        "def add():\n",
        "    c = c + 2 # increment c by 2\n",
        "    print(c)\n",
        "\n",
        "add()"
      ],
      "execution_count": 10,
      "outputs": [
        {
          "output_type": "error",
          "ename": "UnboundLocalError",
          "evalue": "ignored",
          "traceback": [
            "\u001b[0;31m---------------------------------------------------------------------------\u001b[0m",
            "\u001b[0;31mUnboundLocalError\u001b[0m                         Traceback (most recent call last)",
            "\u001b[0;32m<ipython-input-10-10710404b9bd>\u001b[0m in \u001b[0;36m<module>\u001b[0;34m()\u001b[0m\n\u001b[1;32m      5\u001b[0m     \u001b[0mprint\u001b[0m\u001b[0;34m(\u001b[0m\u001b[0mc\u001b[0m\u001b[0;34m)\u001b[0m\u001b[0;34m\u001b[0m\u001b[0;34m\u001b[0m\u001b[0m\n\u001b[1;32m      6\u001b[0m \u001b[0;34m\u001b[0m\u001b[0m\n\u001b[0;32m----> 7\u001b[0;31m \u001b[0madd\u001b[0m\u001b[0;34m(\u001b[0m\u001b[0;34m)\u001b[0m\u001b[0;34m\u001b[0m\u001b[0;34m\u001b[0m\u001b[0m\n\u001b[0m",
            "\u001b[0;32m<ipython-input-10-10710404b9bd>\u001b[0m in \u001b[0;36madd\u001b[0;34m()\u001b[0m\n\u001b[1;32m      2\u001b[0m \u001b[0;34m\u001b[0m\u001b[0m\n\u001b[1;32m      3\u001b[0m \u001b[0;32mdef\u001b[0m \u001b[0madd\u001b[0m\u001b[0;34m(\u001b[0m\u001b[0;34m)\u001b[0m\u001b[0;34m:\u001b[0m\u001b[0;34m\u001b[0m\u001b[0;34m\u001b[0m\u001b[0m\n\u001b[0;32m----> 4\u001b[0;31m     \u001b[0mc\u001b[0m \u001b[0;34m=\u001b[0m \u001b[0mc\u001b[0m \u001b[0;34m+\u001b[0m \u001b[0;36m2\u001b[0m \u001b[0;31m# increment c by 2\u001b[0m\u001b[0;34m\u001b[0m\u001b[0;34m\u001b[0m\u001b[0m\n\u001b[0m\u001b[1;32m      5\u001b[0m     \u001b[0mprint\u001b[0m\u001b[0;34m(\u001b[0m\u001b[0mc\u001b[0m\u001b[0;34m)\u001b[0m\u001b[0;34m\u001b[0m\u001b[0;34m\u001b[0m\u001b[0m\n\u001b[1;32m      6\u001b[0m \u001b[0;34m\u001b[0m\u001b[0m\n",
            "\u001b[0;31mUnboundLocalError\u001b[0m: local variable 'c' referenced before assignment"
          ]
        }
      ]
    },
    {
      "cell_type": "code",
      "metadata": {
        "colab": {
          "base_uri": "https://localhost:8080/"
        },
        "id": "Y7IO5PExEse6",
        "outputId": "0318b22e-2b7f-4ec4-c536-b84996e70f0e"
      },
      "source": [
        "a = 1\n",
        "\n",
        "# Uses global because there is no local 'a'\n",
        "def f():\n",
        "\tprint('Inside f() : ', a)\n",
        "\n",
        "# Variable 'a' is redefined as a local\n",
        "def g():\n",
        "\ta = 2\n",
        "\tprint('Inside g() : ', a)\n",
        "\n",
        "# Uses global keyword to modify global 'a'\n",
        "def h():\n",
        "\tglobal a\n",
        "\ta = 3\n",
        "\tprint('Inside h() : ', a)\n",
        "\n",
        "# Global scope\n",
        "print('global : ',a)\n",
        "f()\n",
        "print('global : ',a)\n",
        "g()\n",
        "print('global : ',a)\n",
        "h()\n",
        "print('global : ',a)\n"
      ],
      "execution_count": 7,
      "outputs": [
        {
          "output_type": "stream",
          "name": "stdout",
          "text": [
            "global :  1\n",
            "Inside f() :  1\n",
            "global :  1\n",
            "Inside g() :  2\n",
            "global :  1\n",
            "Inside h() :  3\n",
            "global :  3\n"
          ]
        }
      ]
    },
    {
      "cell_type": "code",
      "metadata": {
        "id": "QtFcnznqV_4Z"
      },
      "source": [
        "l=[1,2]\n",
        "l=[3,4]\n",
        "l[1]=5\n"
      ],
      "execution_count": null,
      "outputs": []
    }
  ]
}